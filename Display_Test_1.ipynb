{
 "cells": [
  {
   "cell_type": "code",
   "execution_count": 3,
   "metadata": {
    "collapsed": false
   },
   "outputs": [
    {
     "data": {
      "text/html": [
       "<iframe id=\"igraph\" scrolling=\"no\" style=\"border:none;\"seamless=\"seamless\" src=\"https://plot.ly/~spencer.hg/50.embed\" height=\"525\" width=\"100%\"></iframe>"
      ],
      "text/plain": [
       "<plotly.tools.PlotlyDisplay object>"
      ]
     },
     "execution_count": 3,
     "metadata": {},
     "output_type": "execute_result"
    }
   ],
   "source": [
    "import numpy as np, random, itertools, networkx as nx, plotly.tools as tls\n",
    "\n",
    "N = 100 ; grid = 100 ; prox = 10\n",
    "#Contruct empty graph with N nodes\n",
    "G = nx.empty_graph(N)\n",
    "\n",
    "#distance function\n",
    "def find_dist(big1):\n",
    "    a,b = big1\n",
    "    diff_tup = np.subtract(a,b)\n",
    "    l = np.linalg.norm(diff_tup)\n",
    "    return l\n",
    "\n",
    "#make graph [(node,{'pos':(x,y)}),...]\n",
    "for i in G:\n",
    "    G.node[i]['pos']=(random.randint(0,grid), random.randint(0,grid))\n",
    "\n",
    "#node positions then make an edge\n",
    "pos=nx.get_node_attributes(G, 'pos')\n",
    "for n1, n2 in itertools.combinations(G,2):\n",
    "    if find_dist((pos[n1], pos[n2])) < prox:\n",
    "        G.add_edge(n1,n2)\n",
    "\n",
    "#plot with fixed positions\n",
    "# nx.draw(G, pos ,node_size= 20)\n",
    "# plt.show()\n",
    "\n",
    "tls.embed(\"https://plot.ly/~spencer.hg/50/networkxipythonplotly-works/\")\n"
   ]
  },
  {
   "cell_type": "code",
   "execution_count": null,
   "metadata": {
    "collapsed": true
   },
   "outputs": [],
   "source": []
  }
 ],
 "metadata": {
  "kernelspec": {
   "display_name": "Python 3",
   "language": "python",
   "name": "python3"
  },
  "language_info": {
   "codemirror_mode": {
    "name": "ipython",
    "version": 3
   },
   "file_extension": ".py",
   "mimetype": "text/x-python",
   "name": "python",
   "nbconvert_exporter": "python",
   "pygments_lexer": "ipython3",
   "version": "3.4.3"
  }
 },
 "nbformat": 4,
 "nbformat_minor": 0
}
